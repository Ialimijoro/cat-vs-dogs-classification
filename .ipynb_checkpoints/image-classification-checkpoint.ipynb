{
 "cells": [
  {
   "cell_type": "markdown",
   "metadata": {},
   "source": [
    "# importer les librairies"
   ]
  },
  {
   "cell_type": "code",
   "execution_count": 1,
   "metadata": {},
   "outputs": [
    {
     "name": "stderr",
     "output_type": "stream",
     "text": [
      "/anaconda3/lib/python3.6/site-packages/h5py/__init__.py:36: FutureWarning: Conversion of the second argument of issubdtype from `float` to `np.floating` is deprecated. In future, it will be treated as `np.float64 == np.dtype(float).type`.\n",
      "  from ._conv import register_converters as _register_converters\n",
      "Using TensorFlow backend.\n",
      "/anaconda3/lib/python3.6/importlib/_bootstrap.py:219: RuntimeWarning: compiletime version 3.5 of module 'tensorflow.python.framework.fast_tensor_util' does not match runtime version 3.6\n",
      "  return f(*args, **kwds)\n"
     ]
    }
   ],
   "source": [
    "import keras\n",
    "from keras import backend as K\n",
    "from keras.models import Sequential\n",
    "from keras.layers import Activation\n",
    "from keras.layers import Dense, Conv2D, MaxPooling2D, Flatten\n",
    "from keras.optimizers import Adam\n",
    "from keras.metrics import categorical_crossentropy\n",
    "from keras.preprocessing.image import ImageDataGenerator\n",
    "import cv2\n",
    "import matplotlib.pyplot as plt\n",
    "import matplotlib.image as mpimg\n",
    "import numpy as np\n",
    "import random\n",
    "%matplotlib inline"
   ]
  },
  {
   "cell_type": "code",
   "execution_count": 3,
   "metadata": {},
   "outputs": [
    {
     "name": "stdout",
     "output_type": "stream",
     "text": [
      "Found 24400 images belonging to 2 classes.\n"
     ]
    }
   ],
   "source": [
    "target_width = 50\n",
    "target_height = 50\n",
    "target_size = (target_width, target_height)\n",
    "classes = ['dog', 'cat']\n",
    "train_path = 'data/train'\n",
    "test_path = 'data/test1'\n",
    "\n",
    "train_batches = ImageDataGenerator().flow_from_directory(train_path, target_size=target_size, classes=classes,  batch_size=20)"
   ]
  },
  {
   "cell_type": "markdown",
   "metadata": {},
   "source": [
    "# Construire le reseaux de neurone"
   ]
  },
  {
   "cell_type": "code",
   "execution_count": null,
   "metadata": {},
   "outputs": [
    {
     "name": "stdout",
     "output_type": "stream",
     "text": [
      "Epoch 1/40\n",
      "600/600 [==============================] - 34s 56ms/step - loss: 6.0329 - acc: 0.5352\n",
      "Epoch 2/40\n",
      "600/600 [==============================] - 34s 57ms/step - loss: 3.8402 - acc: 0.6133\n",
      "Epoch 3/40\n",
      "600/600 [==============================] - 33s 55ms/step - loss: 2.9384 - acc: 0.6257\n",
      "Epoch 4/40\n",
      "600/600 [==============================] - 35s 58ms/step - loss: 2.0959 - acc: 0.6464\n",
      "Epoch 5/40\n",
      "600/600 [==============================] - 35s 58ms/step - loss: 1.5984 - acc: 0.6584\n",
      "Epoch 6/40\n",
      "600/600 [==============================] - 34s 57ms/step - loss: 1.3986 - acc: 0.6558\n",
      "Epoch 7/40\n",
      "600/600 [==============================] - 34s 56ms/step - loss: 1.1351 - acc: 0.6808\n",
      "Epoch 8/40\n",
      "600/600 [==============================] - 33s 55ms/step - loss: 1.0573 - acc: 0.6747\n",
      "Epoch 9/40\n",
      "600/600 [==============================] - 38s 63ms/step - loss: 0.9237 - acc: 0.6871\n",
      "Epoch 10/40\n",
      "600/600 [==============================] - 33s 55ms/step - loss: 0.8221 - acc: 0.6983\n",
      "Epoch 11/40\n",
      "600/600 [==============================] - 33s 56ms/step - loss: 0.7294 - acc: 0.7184\n",
      "Epoch 12/40\n",
      "600/600 [==============================] - 34s 56ms/step - loss: 0.6956 - acc: 0.7202\n",
      "Epoch 13/40\n",
      "600/600 [==============================] - 33s 55ms/step - loss: 0.6243 - acc: 0.7371\n",
      "Epoch 14/40\n",
      "600/600 [==============================] - 38s 64ms/step - loss: 0.5954 - acc: 0.7435\n",
      "Epoch 15/40\n",
      "600/600 [==============================] - 38s 63ms/step - loss: 0.5208 - acc: 0.7686\n",
      "Epoch 16/40\n",
      "600/600 [==============================] - 35s 58ms/step - loss: 0.5180 - acc: 0.7704\n",
      "Epoch 17/40\n",
      "600/600 [==============================] - 36s 60ms/step - loss: 0.4549 - acc: 0.8000\n",
      "Epoch 18/40\n",
      "600/600 [==============================] - 35s 59ms/step - loss: 0.4421 - acc: 0.8042\n",
      "Epoch 19/40\n",
      "600/600 [==============================] - 37s 62ms/step - loss: 0.3974 - acc: 0.8225\n",
      "Epoch 20/40\n",
      "600/600 [==============================] - 35s 58ms/step - loss: 0.3734 - acc: 0.8337\n",
      "Epoch 21/40\n",
      "600/600 [==============================] - 36s 60ms/step - loss: 0.3385 - acc: 0.8541\n",
      "Epoch 22/40\n",
      "600/600 [==============================] - 33s 55ms/step - loss: 0.3223 - acc: 0.8600\n",
      "Epoch 23/40\n",
      "600/600 [==============================] - 33s 54ms/step - loss: 0.2941 - acc: 0.8780\n",
      "Epoch 24/40\n",
      "600/600 [==============================] - 37s 61ms/step - loss: 0.2658 - acc: 0.8917\n",
      "Epoch 25/40\n",
      "600/600 [==============================] - 35s 59ms/step - loss: 0.2359 - acc: 0.9037\n",
      "Epoch 26/40\n",
      "600/600 [==============================] - 33s 55ms/step - loss: 0.2250 - acc: 0.9099\n",
      "Epoch 27/40\n",
      "600/600 [==============================] - 36s 60ms/step - loss: 0.2035 - acc: 0.9227\n",
      "Epoch 28/40\n",
      "600/600 [==============================] - 33s 54ms/step - loss: 0.1803 - acc: 0.9354\n",
      "Epoch 29/40\n",
      "600/600 [==============================] - 33s 55ms/step - loss: 0.1613 - acc: 0.9442\n",
      "Epoch 30/40\n",
      "305/600 [==============>...............] - ETA: 16s - loss: 0.1379 - acc: 0.9566"
     ]
    }
   ],
   "source": [
    "model = Sequential()\n",
    "\n",
    "model.add( Conv2D(32, (3, 3), activation='relu', input_shape=(50,50,3)) )\n",
    "model.add( MaxPooling2D(pool_size=(2,2)) )\n",
    "\n",
    "model.add( Conv2D(32, (3, 3), activation='relu') )\n",
    "model.add( MaxPooling2D(pool_size=(2,2)) )\n",
    "\n",
    "model.add( Flatten() )\n",
    "model.add( Dense(128, activation='relu') )\n",
    "model.add( Dense(2, activation='softmax') )\n",
    "\n",
    "model.compile(Adam(lr=0.00003), loss='categorical_crossentropy', metrics=['accuracy'])\n",
    "\n",
    "steps_per_epoch = 600\n",
    "epochs = 40\n",
    "model.fit_generator(train_batches, steps_per_epoch=steps_per_epoch, epochs=epochs)"
   ]
  },
  {
   "cell_type": "markdown",
   "metadata": {},
   "source": [
    "# Sauvegarder l'état de reseau de neurone"
   ]
  },
  {
   "cell_type": "code",
   "execution_count": 43,
   "metadata": {},
   "outputs": [],
   "source": [
    "saved_model = model.save('cat_vs_dog.h5')"
   ]
  },
  {
   "cell_type": "markdown",
   "metadata": {},
   "source": [
    "# Tester avec quelques images"
   ]
  },
  {
   "cell_type": "code",
   "execution_count": null,
   "metadata": {},
   "outputs": [],
   "source": [
    "def probability_to_percentage(p):\n",
    "    return round(p*100, 2)\n",
    "\n",
    "def parse_prediction_array(prediction):\n",
    "    max_index = prediction[0].argmax()\n",
    "    if max_index == 0:\n",
    "        return {\"label\": \"chien\", \"p\": probability_to_percentage(prediction[0][max_index])}\n",
    "    else:\n",
    "         return {\"label\": \"chat\", \"p\": probability_to_percentage(prediction[0][max_index])}\n",
    "\n",
    "for _ in range(20):\n",
    "    rand_nb = random.randint(1, 12500)\n",
    "    img_src = 'data/test1/'+ str(rand_nb) +'.jpg'\n",
    "    img =  cv2.imread(img_src)\n",
    "\n",
    "    img = cv2.resize(img, target_size)\n",
    "    img = img.reshape(1, target_width,target_height,3)\n",
    "    prediction = saved_model.predict(img)\n",
    "\n",
    "    parsed_res = parse_prediction_array(prediction)\n",
    "\n",
    "    fig, ax = plt.subplots()\n",
    "    title =  str(parsed_res[\"p\"]) + \"% de chance d'être un \" + str(parsed_res[\"label\"])\n",
    "    fig.suptitle(title, fontsize=12)\n",
    "\n",
    "    np_img = mpimg.imread(img_src)\n",
    "    plt.imshow(np_img)"
   ]
  },
  {
   "cell_type": "code",
   "execution_count": null,
   "metadata": {},
   "outputs": [],
   "source": []
  }
 ],
 "metadata": {
  "kernelspec": {
   "display_name": "Python 3",
   "language": "python",
   "name": "python3"
  },
  "language_info": {
   "codemirror_mode": {
    "name": "ipython",
    "version": 3
   },
   "file_extension": ".py",
   "mimetype": "text/x-python",
   "name": "python",
   "nbconvert_exporter": "python",
   "pygments_lexer": "ipython3",
   "version": "3.6.5"
  }
 },
 "nbformat": 4,
 "nbformat_minor": 2
}
